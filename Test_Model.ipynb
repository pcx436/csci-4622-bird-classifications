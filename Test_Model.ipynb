{
 "cells": [
  {
   "cell_type": "code",
   "execution_count": 3,
   "metadata": {},
   "outputs": [],
   "source": [
    "import numpy as np\n",
    "import pandas as pd\n",
    "import matplotlib.pyplot as plt \n",
    "import keras \n",
    "import csv\n",
    "\n",
    "from sklearn.model_selection import train_test_split\n",
    "from sklearn.datasets import load_iris\n",
    "from keras.utils import to_categorical \n",
    "\n",
    "#for classifying the images\n",
    "from keras.models import Sequential \n",
    "from keras.layers import Conv2D, MaxPooling2D \n",
    "from keras.layers import Dense, Dropout \n",
    "from keras.layers import Flatten, BatchNormalization\n",
    "\n",
    "data = np.load('outputFile.npz', allow_pickle = True)"
   ]
  },
  {
   "cell_type": "code",
   "execution_count": 11,
   "metadata": {},
   "outputs": [
    {
     "name": "stdout",
     "output_type": "stream",
     "text": [
      "['image_data', 'image_names']\n",
      "001.Black_footed_Albatross/Black_Footed_Albatross_0046_18.jpg\n"
     ]
    }
   ],
   "source": [
    "print(data.files)\n",
    "    \n",
    "image_data = data['image_data']\n",
    "image_names = data['image_names']\n",
    "print(image_names[0])"
   ]
  },
  {
   "cell_type": "code",
   "execution_count": 20,
   "metadata": {},
   "outputs": [],
   "source": [
    "#maybe what I shall do is take what the bird names are and then make a list of them\n",
    "bird_list_names = []\n",
    "for i in range(len(image_names)):\n",
    "    split_temp = image_names[i].split(\"/\")\n",
    "    bird_list_names.append(split_temp[0][4:])\n",
    "#now that we have the y to some degree. It is now to \n",
    "\n",
    "unique_names = np.unique(bird_list_names)\n",
    "#now to set them to numbers. \n"
   ]
  },
  {
   "cell_type": "code",
   "execution_count": null,
   "metadata": {},
   "outputs": [],
   "source": []
  }
 ],
 "metadata": {
  "kernelspec": {
   "display_name": "Python 3",
   "language": "python",
   "name": "python3"
  },
  "language_info": {
   "codemirror_mode": {
    "name": "ipython",
    "version": 3
   },
   "file_extension": ".py",
   "mimetype": "text/x-python",
   "name": "python",
   "nbconvert_exporter": "python",
   "pygments_lexer": "ipython3",
   "version": "3.7.1"
  }
 },
 "nbformat": 4,
 "nbformat_minor": 2
}
